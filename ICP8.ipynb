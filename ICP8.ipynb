{
  "nbformat": 4,
  "nbformat_minor": 0,
  "metadata": {
    "colab": {
      "name": "ICP8.ipynb",
      "provenance": [],
      "authorship_tag": "ABX9TyPBTEbiJeomSL/nWOZWB4/l",
      "include_colab_link": true
    },
    "kernelspec": {
      "name": "python3",
      "display_name": "Python 3"
    }
  },
  "cells": [
    {
      "cell_type": "markdown",
      "metadata": {
        "id": "view-in-github",
        "colab_type": "text"
      },
      "source": [
        "<a href=\"https://colab.research.google.com/github/clairendo4/KDM_ICP8/blob/main/ICP8.ipynb\" target=\"_parent\"><img src=\"https://colab.research.google.com/assets/colab-badge.svg\" alt=\"Open In Colab\"/></a>"
      ]
    },
    {
      "cell_type": "code",
      "metadata": {
        "colab": {
          "base_uri": "https://localhost:8080/"
        },
        "id": "98BM7MEoXaht",
        "outputId": "f55fefb0-bee4-4e43-b824-07df63d981d8"
      },
      "source": [
        "#INSTALLING STANZA\r\n",
        "!pip install stanza\r\n",
        "\r\n",
        "# Import stanza\r\n",
        "import stanza"
      ],
      "execution_count": 1,
      "outputs": [
        {
          "output_type": "stream",
          "text": [
            "Collecting stanza\n",
            "\u001b[?25l  Downloading https://files.pythonhosted.org/packages/50/ae/a70a58ce6b4e2daad538688806ee0f238dbe601954582a74ea57cde6c532/stanza-1.2-py3-none-any.whl (282kB)\n",
            "\r\u001b[K     |█▏                              | 10kB 14.6MB/s eta 0:00:01\r\u001b[K     |██▎                             | 20kB 11.6MB/s eta 0:00:01\r\u001b[K     |███▌                            | 30kB 9.5MB/s eta 0:00:01\r\u001b[K     |████▋                           | 40kB 8.1MB/s eta 0:00:01\r\u001b[K     |█████▉                          | 51kB 4.2MB/s eta 0:00:01\r\u001b[K     |███████                         | 61kB 5.0MB/s eta 0:00:01\r\u001b[K     |████████▏                       | 71kB 5.0MB/s eta 0:00:01\r\u001b[K     |█████████▎                      | 81kB 5.4MB/s eta 0:00:01\r\u001b[K     |██████████▌                     | 92kB 5.8MB/s eta 0:00:01\r\u001b[K     |███████████▋                    | 102kB 5.8MB/s eta 0:00:01\r\u001b[K     |████████████▉                   | 112kB 5.8MB/s eta 0:00:01\r\u001b[K     |██████████████                  | 122kB 5.8MB/s eta 0:00:01\r\u001b[K     |███████████████                 | 133kB 5.8MB/s eta 0:00:01\r\u001b[K     |████████████████▎               | 143kB 5.8MB/s eta 0:00:01\r\u001b[K     |█████████████████▍              | 153kB 5.8MB/s eta 0:00:01\r\u001b[K     |██████████████████▋             | 163kB 5.8MB/s eta 0:00:01\r\u001b[K     |███████████████████▊            | 174kB 5.8MB/s eta 0:00:01\r\u001b[K     |█████████████████████           | 184kB 5.8MB/s eta 0:00:01\r\u001b[K     |██████████████████████          | 194kB 5.8MB/s eta 0:00:01\r\u001b[K     |███████████████████████▎        | 204kB 5.8MB/s eta 0:00:01\r\u001b[K     |████████████████████████▍       | 215kB 5.8MB/s eta 0:00:01\r\u001b[K     |█████████████████████████▋      | 225kB 5.8MB/s eta 0:00:01\r\u001b[K     |██████████████████████████▊     | 235kB 5.8MB/s eta 0:00:01\r\u001b[K     |███████████████████████████▉    | 245kB 5.8MB/s eta 0:00:01\r\u001b[K     |█████████████████████████████   | 256kB 5.8MB/s eta 0:00:01\r\u001b[K     |██████████████████████████████▏ | 266kB 5.8MB/s eta 0:00:01\r\u001b[K     |███████████████████████████████▍| 276kB 5.8MB/s eta 0:00:01\r\u001b[K     |████████████████████████████████| 286kB 5.8MB/s \n",
            "\u001b[?25hRequirement already satisfied: torch>=1.3.0 in /usr/local/lib/python3.7/dist-packages (from stanza) (1.8.0+cu101)\n",
            "Requirement already satisfied: numpy in /usr/local/lib/python3.7/dist-packages (from stanza) (1.19.5)\n",
            "Requirement already satisfied: protobuf in /usr/local/lib/python3.7/dist-packages (from stanza) (3.12.4)\n",
            "Requirement already satisfied: tqdm in /usr/local/lib/python3.7/dist-packages (from stanza) (4.41.1)\n",
            "Requirement already satisfied: requests in /usr/local/lib/python3.7/dist-packages (from stanza) (2.23.0)\n",
            "Requirement already satisfied: typing-extensions in /usr/local/lib/python3.7/dist-packages (from torch>=1.3.0->stanza) (3.7.4.3)\n",
            "Requirement already satisfied: six>=1.9 in /usr/local/lib/python3.7/dist-packages (from protobuf->stanza) (1.15.0)\n",
            "Requirement already satisfied: setuptools in /usr/local/lib/python3.7/dist-packages (from protobuf->stanza) (54.0.0)\n",
            "Requirement already satisfied: urllib3!=1.25.0,!=1.25.1,<1.26,>=1.21.1 in /usr/local/lib/python3.7/dist-packages (from requests->stanza) (1.24.3)\n",
            "Requirement already satisfied: certifi>=2017.4.17 in /usr/local/lib/python3.7/dist-packages (from requests->stanza) (2020.12.5)\n",
            "Requirement already satisfied: idna<3,>=2.5 in /usr/local/lib/python3.7/dist-packages (from requests->stanza) (2.10)\n",
            "Requirement already satisfied: chardet<4,>=3.0.2 in /usr/local/lib/python3.7/dist-packages (from requests->stanza) (3.0.4)\n",
            "Installing collected packages: stanza\n",
            "Successfully installed stanza-1.2\n"
          ],
          "name": "stdout"
        }
      ]
    },
    {
      "cell_type": "code",
      "metadata": {
        "colab": {
          "base_uri": "https://localhost:8080/"
        },
        "id": "eeeH_W5BXheC",
        "outputId": "58d1c33e-0d80-4ece-d9ca-8c4a4e397845"
      },
      "source": [
        "#DOWNLOADING AND INSTALLING CORENLP\r\n",
        "corenlp_dir = './corenlp'\r\n",
        "stanza.install_corenlp(dir=corenlp_dir)\r\n",
        "\r\n",
        "import os\r\n",
        "os.environ[\"CORENLP_HOME\"] = corenlp_dir"
      ],
      "execution_count": 2,
      "outputs": [
        {
          "output_type": "stream",
          "text": [
            "2021-03-15 14:51:40 INFO: Installing CoreNLP package into ./corenlp...\n",
            "Downloading http://nlp.stanford.edu/software/stanford-corenlp-latest.zip: 100%|██████████| 505M/505M [01:47<00:00, 4.69MB/s]\n",
            "2021-03-15 14:53:31 WARNING: For customized installation location, please set the `CORENLP_HOME` environment variable to the location of the installation. In Unix, this is done with `export CORENLP_HOME=./corenlp`.\n"
          ],
          "name": "stderr"
        }
      ]
    },
    {
      "cell_type": "code",
      "metadata": {
        "colab": {
          "base_uri": "https://localhost:8080/"
        },
        "id": "bjUX9XmuXvgA",
        "outputId": "ff2a0208-c26c-4698-c8d9-f97d4abdf4cf"
      },
      "source": [
        "import stanza\r\n",
        "# Import client module\r\n",
        "from stanza.server import CoreNLPClient\r\n",
        "\r\n",
        "client = CoreNLPClient(timeout=150000000, be_quiet=True, annotators=['openie'], \r\n",
        "endpoint='http://localhost:9001')\r\n",
        "client.start()\r\n",
        "import time\r\n",
        "time.sleep(10)"
      ],
      "execution_count": 3,
      "outputs": [
        {
          "output_type": "stream",
          "text": [
            "2021-03-15 14:53:31 INFO: Writing properties to tmp file: corenlp_server-832a3ac17b2f4fe0.props\n",
            "2021-03-15 14:53:31 INFO: Starting server with command: java -Xmx5G -cp ./corenlp/* edu.stanford.nlp.pipeline.StanfordCoreNLPServer -port 9001 -timeout 150000000 -threads 5 -maxCharLength 100000 -quiet True -serverProperties corenlp_server-832a3ac17b2f4fe0.props -annotators openie -preload -outputFormat serialized\n"
          ],
          "name": "stderr"
        }
      ]
    },
    {
      "cell_type": "markdown",
      "metadata": {
        "id": "texGPWPWN9ZM"
      },
      "source": [
        "**PERFORMING TRIPLET EXTRACTION ON FIRST TEXT ABSTRACT**"
      ]
    },
    {
      "cell_type": "code",
      "metadata": {
        "colab": {
          "base_uri": "https://localhost:8080/"
        },
        "id": "O-Y5YeWyZE1A",
        "outputId": "1625f372-9866-42a9-bf8d-a3adb0dd2fb9"
      },
      "source": [
        "import json\r\n",
        "# run triple extraction \r\n",
        "\r\n",
        "#uploading our first news article so we can extract the triplets\r\n",
        "txt = \"../content/text1.txt\"\r\n",
        "# opening and converting read in files to readable form \r\n",
        "txt = open(txt, \"r\")\r\n",
        "text_sring = txt.read()\r\n",
        "#extracting triples\r\n",
        "document = client.annotate(text_sring, output_format='json')\r\n",
        "triples = []\r\n",
        "for sentence in document['sentences']:\r\n",
        "    for triple in sentence['openie']:\r\n",
        "        triples.append({\r\n",
        "           'subject': triple['subject'],\r\n",
        "           'relation': triple['relation'],\r\n",
        "            'object': triple['object']\r\n",
        "        })\r\n",
        "print(triples)\r\n",
        "# saving my triplets to an output text file\r\n",
        "with open(\"../content/output1.txt\", 'w') as writefile:\r\n",
        "    writefile.write(str(triples))"
      ],
      "execution_count": 15,
      "outputs": [
        {
          "output_type": "stream",
          "text": [
            "[{'subject': 'Nicholas M. McQuillen', 'relation': 'has', 'object': 'has charged'}, {'subject': 'Nicholas M. McQuillen', 'relation': 'has', 'object': 'has charged with one count of misdemeanor fourth degree assault'}, {'subject': 'Nicholas M. McQuillen', 'relation': 'has', 'object': 'has charged with one count'}, {'subject': 'Nicholas M. McQuillen', 'relation': 'has', 'object': 'has charged with one count of misdemeanor degree assault'}, {'subject': 'jury', 'relation': 'in', 'object': 'indictment'}, {'subject': 'girl', 'relation': 'into', 'object': 'face'}, {'subject': 'jury', 'relation': 'reviewed', 'object': 'videos including drone footage'}, {'subject': 'jury', 'relation': 'reviewed', 'object': 'various videos of incident including footage'}, {'subject': 'jury', 'relation': 'reviewed', 'object': 'various videos including footage from Kansas City Police Department'}, {'subject': 'jury', 'relation': 'reviewed', 'object': 'videos of incident including drone footage'}, {'subject': 'jury', 'relation': 'reviewed', 'object': 'videos'}, {'subject': 'jury', 'relation': 'reviewed', 'object': 'videos of incident including footage'}, {'subject': 'jury', 'relation': 'reviewed', 'object': 'videos of incident including drone footage from Kansas City Police Department'}, {'subject': 'jury', 'relation': 'reviewed', 'object': 'various videos of incident'}, {'subject': 'jury', 'relation': 'reviewed', 'object': 'various videos including drone footage from Kansas City Police Department'}, {'subject': 'jury', 'relation': 'reviewed', 'object': 'various videos of incident including drone footage from Kansas City Police Department'}, {'subject': 'jury', 'relation': 'reviewed', 'object': 'videos including drone footage from Kansas City Police Department'}, {'subject': 'jury', 'relation': 'reviewed', 'object': 'videos including footage'}, {'subject': 'jury', 'relation': 'reviewed', 'object': 'videos of incident'}, {'subject': 'jury', 'relation': 'reviewed', 'object': 'various videos of incident including footage from Kansas City Police Department'}, {'subject': 'jury', 'relation': 'reviewed', 'object': 'various videos including footage'}, {'subject': 'jury', 'relation': 'reviewed', 'object': 'various videos including drone footage'}, {'subject': 'jury', 'relation': 'reviewed', 'object': 'various videos of incident including drone footage'}, {'subject': 'jury', 'relation': 'reviewed', 'object': 'videos of incident including footage from Kansas City Police Department'}, {'subject': 'jury', 'relation': 'reviewed', 'object': 'various videos'}, {'subject': 'jury', 'relation': 'reviewed', 'object': 'videos including footage from Kansas City Police Department'}, {'subject': 'streets', 'relation': 'facing', 'object': 'them'}, {'subject': 'KCPD officers', 'relation': 'facing', 'object': 'them'}, {'subject': 'protesters', 'relation': 'were in', 'object': 'park'}, {'subject': 'KCPD officers', 'relation': 'lined', 'object': 'streets'}, {'subject': 'man', 'relation': 'disputed', 'object': 'allegations'}, {'subject': 'girl', 'relation': 'apparently standing on', 'object': 'street'}, {'subject': 'girl', 'relation': 'standing on', 'object': 'street'}, {'subject': 'cell phone video', 'relation': 'shows', 'object': 'girl standing on sidewalk'}, {'subject': 'cell phone video', 'relation': 'shows', 'object': 'girl'}, {'subject': 'cell phone video', 'relation': 'shows', 'object': 'girl standing'}, {'subject': 'officer', 'relation': '’s', 'object': 'attention'}, {'subject': 'Court records', 'relation': 'say', 'object': 'McQuillen'}, {'subject': 'protesters', 'relation': 'stepped onto', 'object': 'sidewalk'}, {'subject': 'protesters', 'relation': 'stepped back onto', 'object': 'sidewalk'}]\n"
          ],
          "name": "stdout"
        }
      ]
    },
    {
      "cell_type": "markdown",
      "metadata": {
        "id": "zKZTWlBjOEb1"
      },
      "source": [
        "**PERFORMING TRIPLET EXTRACTION ON SECOND TEXT ABSTRACT**"
      ]
    },
    {
      "cell_type": "code",
      "metadata": {
        "colab": {
          "base_uri": "https://localhost:8080/"
        },
        "id": "ONGx24h1CF8j",
        "outputId": "7295b1f6-e7d1-493e-bb68-214f699cefdc"
      },
      "source": [
        "import json\r\n",
        "# run triple extraction \r\n",
        "#uploading our first news article so we can extract the triplets\r\n",
        "txt = \"../content/text2.txt\"\r\n",
        "# opening and converting read in files to readable form \r\n",
        "txt = open(txt, \"r\")\r\n",
        "text_sring = txt.read()\r\n",
        "document = client.annotate(text_sring, output_format='json')\r\n",
        "#extracting triples\r\n",
        "triples = []\r\n",
        "for sentence in document['sentences']:\r\n",
        "    for triple in sentence['openie']:\r\n",
        "        triples.append({\r\n",
        "           'subject': triple['subject'],\r\n",
        "           'relation': triple['relation'],\r\n",
        "            'object': triple['object']\r\n",
        "        })\r\n",
        "print(triples)\r\n",
        "#saving the triples to an output text file\r\n",
        "with open(\"../content/output2.txt\", 'w') as writefile:\r\n",
        "    writefile.write(str(triples))"
      ],
      "execution_count": 16,
      "outputs": [
        {
          "output_type": "stream",
          "text": [
            "[{'subject': 'President Biden', 'relation': 'set', 'object': 'goal'}, {'subject': 'President Biden', 'relation': 'set goal to', 'object': 'get'}, {'subject': 'President Biden', 'relation': 'set', 'object': 'goal of July 4'}, {'subject': 'Mr. Biden', 'relation': 'reach', 'object': 'goal'}, {'subject': 'greater numbers', 'relation': 'are', 'object': 'fully vaccinated'}, {'subject': 'numbers', 'relation': 'are', 'object': 'As vaccinated'}, {'subject': 'Mr. Biden', 'relation': 'said', 'object': 'fully vaccinated'}, {'subject': 'Mr. Biden', 'relation': 'said', 'object': 'As vaccinated'}, {'subject': 'numbers', 'relation': 'are', 'object': 'fully vaccinated'}, {'subject': 'Mr. Biden', 'relation': 'said', 'object': 'As fully vaccinated'}, {'subject': 'numbers', 'relation': 'are', 'object': 'As fully vaccinated'}, {'subject': 'greater numbers', 'relation': 'are', 'object': 'As fully vaccinated'}, {'subject': 'greater numbers', 'relation': 'are', 'object': 'vaccinated'}, {'subject': 'Mr. Biden', 'relation': 'said', 'object': 'vaccinated'}, {'subject': 'greater numbers', 'relation': 'are', 'object': 'As vaccinated'}, {'subject': 'numbers', 'relation': 'are', 'object': 'vaccinated'}, {'subject': 'Biden administration', 'relation': 'has', 'object': 'has criticized by some'}, {'subject': '100 million shots', 'relation': 'is in', 'object': 'arms'}, {'subject': 'his 60th day', 'relation': 'is in', 'object': 'office'}, {'subject': 'he', 'relation': 'said of', 'object': 'U.S. vaccination rate'}, {'subject': 'None', 'relation': 'said of', 'object': 'U.S. vaccination rate'}, {'subject': 'Americans', 'relation': 'enter', 'object': 'year'}, {'subject': 'Mr. Biden', 'relation': 'send', 'object': 'message of unity'}, {'subject': 'Americans', 'relation': 'enter', 'object': 'year of pandemic'}, {'subject': 'Americans', 'relation': 'second year of', 'object': 'pandemic'}, {'subject': 'Americans', 'relation': 'enter', 'object': 'second year of pandemic'}, {'subject': 'Americans', 'relation': 'year of', 'object': 'pandemic'}, {'subject': 'Mr. Biden', 'relation': 'send', 'object': 'message'}, {'subject': 'Americans', 'relation': 'enter', 'object': 'second year'}, {'subject': 'He', 'relation': 'struck', 'object': 'solemn tone'}, {'subject': 'He', 'relation': 'struck tone at', 'object': 'start'}, {'subject': 'He', 'relation': 'struck', 'object': 'tone'}, {'subject': 'He', 'relation': 'struck tone at', 'object': 'start of speech'}, {'subject': 'He', 'relation': 'told', 'object': 'Americans'}]\n"
          ],
          "name": "stdout"
        }
      ]
    },
    {
      "cell_type": "markdown",
      "metadata": {
        "id": "wIfMQmReOZ5L"
      },
      "source": [
        "**PERFORMING TRIPLET EXTRACTION ON THIRD TEXT ABSTRACT**"
      ]
    },
    {
      "cell_type": "code",
      "metadata": {
        "colab": {
          "base_uri": "https://localhost:8080/"
        },
        "id": "pIkLgZ8tCU_g",
        "outputId": "4b07b9bf-fd3e-4a54-b944-bfed6a02df03"
      },
      "source": [
        "import json\r\n",
        "# perform triplet extraction \r\n",
        "\r\n",
        "#uploading our first news article so we can extract the triplets\r\n",
        "txt = \"../content/Text 3.txt\"\r\n",
        "# opening and converting read in files to readable form \r\n",
        "txt = open(txt, \"r\")\r\n",
        "text_sring = txt.read()\r\n",
        "#function to help produce triplets  \r\n",
        "document = client.annotate(text_sring, output_format='json')\r\n",
        "triples = []\r\n",
        "for sentence in document['sentences']:\r\n",
        "    for triple in sentence['openie']:\r\n",
        "        triples.append({\r\n",
        "           'subject': triple['subject'],\r\n",
        "           'relation': triple['relation'],\r\n",
        "            'object': triple['object']\r\n",
        "        })\r\n",
        "print(triples)\r\n",
        "#saving triples to an output text file\r\n",
        "with open(\"../content/output3.txt\", 'w') as writefile:\r\n",
        "    writefile.write(str(triples))"
      ],
      "execution_count": 17,
      "outputs": [
        {
          "output_type": "stream",
          "text": [
            "[{'subject': 'Entertainment Software Association', 'relation': 'help', 'object': 'educate girls interested'}, {'subject': 'educate girls', 'relation': 'interested in', 'object': 'technology'}, {'subject': 'Entertainment Software Association', 'relation': 'announced', 'object': '$ 1 million partnership with Black Girls Code'}, {'subject': 'Entertainment Software Association', 'relation': 'help', 'object': 'educate girls interested in technology'}, {'subject': 'Entertainment Software Association', 'relation': 'announced', 'object': '$ 1 million partnership'}, {'subject': '$ 1 million partnership', 'relation': 'is with', 'object': 'Black Girls Code'}, {'subject': 'ESA', 'relation': 'association for', 'object': 'video game industry'}, {'subject': 'its', 'relation': 'arm', 'object': 'ESA Foundation'}, {'subject': 'it', 'relation': 'working through', 'object': 'its philanthropic arm'}, {'subject': 'it', 'relation': 'working through', 'object': 'its arm'}, {'subject': 'tech education', 'relation': 'investments in', 'object': 'volunteer time'}, {'subject': 'it', 'relation': 'spend', 'object': '$ 1 million over two years'}, {'subject': 'it', 'relation': 'spend', 'object': '$ 1 million'}, {'subject': 'investments', 'relation': 'is in', 'object': 'volunteer time'}, {'subject': 'tech education', 'relation': 'investments', 'object': 'workshops'}, {'subject': 'tech education', 'relation': 'investments', 'object': 'mentorships'}, {'subject': 'it', 'relation': 'working through', 'object': 'ESA Foundation'}, {'subject': 'investments', 'relation': 'support', 'object': 'tech education'}, {'subject': 'effort', 'relation': 'bring', 'object': 'more women of color'}, {'subject': 'effort', 'relation': 'bring', 'object': 'women of color'}, {'subject': 'will collaboration', 'relation': 'is with', 'object': 'BGC'}, {'subject': 'Stanley Pierre Louis', 'relation': 'said in', 'object': 'press release'}, {'subject': 'expanding opportunities', 'relation': 'is in', 'object': 'our sector'}, {'subject': 'Anastasia Staten', 'relation': 'told', 'object': 'CNN'}]\n"
          ],
          "name": "stdout"
        }
      ]
    }
  ]
}